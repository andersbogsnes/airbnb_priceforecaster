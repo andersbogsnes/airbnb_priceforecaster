{
 "cells": [
  {
   "cell_type": "code",
   "execution_count": 1,
   "metadata": {},
   "outputs": [],
   "source": [
    "%load_ext autoreload\n",
    "%autoreload 2"
   ]
  },
  {
   "cell_type": "code",
   "execution_count": 2,
   "metadata": {},
   "outputs": [],
   "source": [
    "import pandas as pd\n",
    "from airbnb_priceforecaster.data import AirBnBDataset"
   ]
  },
  {
   "cell_type": "markdown",
   "metadata": {},
   "source": [
    "# Exploring the AirBnB listings\n",
    "\n",
    "The aim is to get an understanding of how each feature is distributed - taking note of the following:\n",
    "\n",
    "- Missing values\n",
    "- Categorical or continuous?\n",
    "- Skewed distributions\n",
    "\n",
    "## Steps\n",
    "\n",
    "1. Download data\n",
    "2. Decide what to keep and what to drop\n"
   ]
  },
  {
   "cell_type": "markdown",
   "metadata": {},
   "source": [
    "# Downloading the data"
   ]
  },
  {
   "cell_type": "markdown",
   "metadata": {},
   "source": [
    "1. Download from [download url](http://data.insideairbnb.com/denmark/hovedstaden/copenhagen/2020-05-30/data/listings.csv.gz)\n",
    "2. Unzip and place into the `data/raw` folder\n",
    "3. Rename it to `listings_2020_05_30.csv`"
   ]
  },
  {
   "cell_type": "markdown",
   "metadata": {},
   "source": [
    "# Drop columns\n",
    "\n",
    "We have 100+ features - many of which are obviously not relevant to our task, such as the host id. There are many features that might be included in a much more advanced model or for a different usecase. For our usecase, we can only include data that one of our potential customers would have - so including factors such as reviews or host picture is probably not useful at this point. Any text descriptions or host-provided prose is not included for now, though could potentially be used in another model to serve as input for this one.\n",
    "\n",
    "We can always come back and add more features as our model evolves - so it's important to write down what we know about each feature and update it when we know more\n",
    "\n",
    "1. Decide what columns to keep\n",
    "2. Document what each feature is and first impressions"
   ]
  },
  {
   "cell_type": "code",
   "execution_count": 3,
   "metadata": {},
   "outputs": [
    {
     "name": "stderr",
     "output_type": "stream",
     "text": [
      "/home/anders/.pyenv/versions/3.8.3/envs/priceforecaster/lib/python3.8/site-packages/IPython/core/interactiveshell.py:3071: DtypeWarning: Columns (43,61,62,94) have mixed types.Specify dtype option on import or set low_memory=False.\n",
      "  has_raised = await self.run_ast_nodes(code_ast.body, cell_name,\n"
     ]
    }
   ],
   "source": [
    "raw_data = pd.read_csv(\"../data/raw/listings_2020_05_30.csv\")"
   ]
  },
  {
   "cell_type": "code",
   "execution_count": null,
   "metadata": {},
   "outputs": [],
   "source": [
    "raw_data.sample(10)"
   ]
  },
  {
   "cell_type": "markdown",
   "metadata": {},
   "source": [
    "I went through each column, writing down what I could see from a cursory glance [here](../docs/features/features.rst)\n",
    "\n",
    "The final list of features to include for now is:"
   ]
  },
  {
   "cell_type": "code",
   "execution_count": 4,
   "metadata": {},
   "outputs": [],
   "source": [
    "usecols = [\n",
    "    \"house_rules\",\n",
    "    \"host_since\",\n",
    "    \"host_location\",\n",
    "    \"host_response_time\",\n",
    "    \"host_neighbourhood\",\n",
    "    \"host_listings_count\",\n",
    "    \"host_total_listings_count\",\n",
    "    \"host_verifications\",\n",
    "    \"host_has_profile_pic\",\n",
    "    \"host_identity_verified\",\n",
    "    \"neighbourhood\",\n",
    "    \"zipcode\",\n",
    "    \"latitude\",\n",
    "    \"longitude\",\n",
    "    \"is_location_exact\",\n",
    "    \"property_type\",\n",
    "    \"room_type\",\n",
    "    \"accommodates\",\n",
    "    \"bathrooms\",\n",
    "    \"bedrooms\",\n",
    "    \"beds\",\n",
    "    \"bed_type\",\n",
    "    \"amenities\",\n",
    "    \"square_feet\",\n",
    "    \"price\",\n",
    "    \"security_deposit\",\n",
    "    \"cleaning_fee\",\n",
    "    \"guests_included\",\n",
    "    \"extra_people\",\n",
    "    \"minimum_nights\",\n",
    "    \"maximum_nights\",\n",
    "    \"instant_bookable\",\n",
    "    \"cancellation_policy\",\n",
    "    \"require_guest_profile_picture\",\n",
    "    \"require_guest_phone_verification\",\n",
    "]"
   ]
  },
  {
   "cell_type": "markdown",
   "metadata": {},
   "source": [
    "# Starting work on dtypes\n",
    "\n",
    "It's good practice to map the correct dtypes from the start, this will save processing time over the data, and can prevent memory explosions.\n",
    "\n",
    "Note that we are not setting their final form - some need to be loaded as strings, for example, so that we can handle missing values properly and then convert to their final form. \n",
    "\n",
    "This is documented [here](../docs/features/keep_features.rst)"
   ]
  },
  {
   "cell_type": "code",
   "execution_count": 5,
   "metadata": {},
   "outputs": [
    {
     "name": "stderr",
     "output_type": "stream",
     "text": [
      "/home/anders/.pyenv/versions/3.8.3/envs/priceforecaster/lib/python3.8/site-packages/IPython/core/interactiveshell.py:3071: DtypeWarning: Columns (43) have mixed types.Specify dtype option on import or set low_memory=False.\n",
      "  has_raised = await self.run_ast_nodes(code_ast.body, cell_name,\n"
     ]
    }
   ],
   "source": [
    "raw_df = pd.read_csv(\"../data/raw/listings_2020_05_30.csv\", usecols=usecols)"
   ]
  },
  {
   "cell_type": "code",
   "execution_count": 6,
   "metadata": {},
   "outputs": [
    {
     "data": {
      "text/html": [
       "<div>\n",
       "<style scoped>\n",
       "    .dataframe tbody tr th:only-of-type {\n",
       "        vertical-align: middle;\n",
       "    }\n",
       "\n",
       "    .dataframe tbody tr th {\n",
       "        vertical-align: top;\n",
       "    }\n",
       "\n",
       "    .dataframe thead th {\n",
       "        text-align: right;\n",
       "    }\n",
       "</style>\n",
       "<table border=\"1\" class=\"dataframe\">\n",
       "  <thead>\n",
       "    <tr style=\"text-align: right;\">\n",
       "      <th></th>\n",
       "      <th>house_rules</th>\n",
       "      <th>host_since</th>\n",
       "      <th>host_location</th>\n",
       "      <th>host_response_time</th>\n",
       "      <th>host_neighbourhood</th>\n",
       "      <th>host_listings_count</th>\n",
       "      <th>host_total_listings_count</th>\n",
       "      <th>host_verifications</th>\n",
       "      <th>host_has_profile_pic</th>\n",
       "      <th>host_identity_verified</th>\n",
       "      <th>...</th>\n",
       "      <th>security_deposit</th>\n",
       "      <th>cleaning_fee</th>\n",
       "      <th>guests_included</th>\n",
       "      <th>extra_people</th>\n",
       "      <th>minimum_nights</th>\n",
       "      <th>maximum_nights</th>\n",
       "      <th>instant_bookable</th>\n",
       "      <th>cancellation_policy</th>\n",
       "      <th>require_guest_profile_picture</th>\n",
       "      <th>require_guest_phone_verification</th>\n",
       "    </tr>\n",
       "  </thead>\n",
       "  <tbody>\n",
       "    <tr>\n",
       "      <th>0</th>\n",
       "      <td>No smoking allowed! No pets.</td>\n",
       "      <td>2009-05-12</td>\n",
       "      <td>Copenhagen, Capital Region of Denmark, Denmark</td>\n",
       "      <td>NaN</td>\n",
       "      <td>Nørrebro</td>\n",
       "      <td>1.0</td>\n",
       "      <td>1.0</td>\n",
       "      <td>['email', 'phone', 'reviews']</td>\n",
       "      <td>t</td>\n",
       "      <td>f</td>\n",
       "      <td>...</td>\n",
       "      <td>$0.00</td>\n",
       "      <td>$33.00</td>\n",
       "      <td>1</td>\n",
       "      <td>$67.00</td>\n",
       "      <td>2</td>\n",
       "      <td>15</td>\n",
       "      <td>f</td>\n",
       "      <td>moderate</td>\n",
       "      <td>f</td>\n",
       "      <td>f</td>\n",
       "    </tr>\n",
       "    <tr>\n",
       "      <th>1</th>\n",
       "      <td>We will leave the house clean and in good and ...</td>\n",
       "      <td>2010-04-17</td>\n",
       "      <td>Copenhagen, Capital Region of Denmark, Denmark</td>\n",
       "      <td>NaN</td>\n",
       "      <td>Indre By</td>\n",
       "      <td>1.0</td>\n",
       "      <td>1.0</td>\n",
       "      <td>['email', 'phone', 'reviews', 'jumio', 'offlin...</td>\n",
       "      <td>t</td>\n",
       "      <td>f</td>\n",
       "      <td>...</td>\n",
       "      <td>$5,000.00</td>\n",
       "      <td>$1,100.00</td>\n",
       "      <td>3</td>\n",
       "      <td>$350.00</td>\n",
       "      <td>3</td>\n",
       "      <td>30</td>\n",
       "      <td>f</td>\n",
       "      <td>moderate</td>\n",
       "      <td>f</td>\n",
       "      <td>f</td>\n",
       "    </tr>\n",
       "    <tr>\n",
       "      <th>2</th>\n",
       "      <td>Please be respectful to the neighbors and keep...</td>\n",
       "      <td>2010-04-22</td>\n",
       "      <td>Copenhagen, Capital Region of Denmark, Denmark</td>\n",
       "      <td>within an hour</td>\n",
       "      <td>Indre By</td>\n",
       "      <td>4.0</td>\n",
       "      <td>4.0</td>\n",
       "      <td>['email', 'phone', 'facebook', 'reviews', 'jum...</td>\n",
       "      <td>t</td>\n",
       "      <td>t</td>\n",
       "      <td>...</td>\n",
       "      <td>$3,727.00</td>\n",
       "      <td>$522.00</td>\n",
       "      <td>1</td>\n",
       "      <td>$0.00</td>\n",
       "      <td>3</td>\n",
       "      <td>31</td>\n",
       "      <td>f</td>\n",
       "      <td>moderate</td>\n",
       "      <td>f</td>\n",
       "      <td>f</td>\n",
       "    </tr>\n",
       "    <tr>\n",
       "      <th>3</th>\n",
       "      <td>Smoking is allowed on the balcony only.  Pleas...</td>\n",
       "      <td>2010-05-15</td>\n",
       "      <td>Copenhagen, Capital Region of Denmark, Denmark</td>\n",
       "      <td>within a day</td>\n",
       "      <td>Vesterbro</td>\n",
       "      <td>1.0</td>\n",
       "      <td>1.0</td>\n",
       "      <td>['email', 'phone', 'reviews']</td>\n",
       "      <td>t</td>\n",
       "      <td>f</td>\n",
       "      <td>...</td>\n",
       "      <td>NaN</td>\n",
       "      <td>$300.00</td>\n",
       "      <td>1</td>\n",
       "      <td>$0.00</td>\n",
       "      <td>7</td>\n",
       "      <td>14</td>\n",
       "      <td>f</td>\n",
       "      <td>strict_14_with_grace_period</td>\n",
       "      <td>f</td>\n",
       "      <td>f</td>\n",
       "    </tr>\n",
       "    <tr>\n",
       "      <th>4</th>\n",
       "      <td>Please respect that this is our home.</td>\n",
       "      <td>2010-05-18</td>\n",
       "      <td>Copenhagen, Capital Region of Denmark, Denmark</td>\n",
       "      <td>NaN</td>\n",
       "      <td>Østerbro</td>\n",
       "      <td>1.0</td>\n",
       "      <td>1.0</td>\n",
       "      <td>['email', 'phone', 'facebook', 'reviews', 'jum...</td>\n",
       "      <td>t</td>\n",
       "      <td>t</td>\n",
       "      <td>...</td>\n",
       "      <td>NaN</td>\n",
       "      <td>$75.00</td>\n",
       "      <td>1</td>\n",
       "      <td>$0.00</td>\n",
       "      <td>7</td>\n",
       "      <td>31</td>\n",
       "      <td>t</td>\n",
       "      <td>moderate</td>\n",
       "      <td>f</td>\n",
       "      <td>f</td>\n",
       "    </tr>\n",
       "  </tbody>\n",
       "</table>\n",
       "<p>5 rows × 35 columns</p>\n",
       "</div>"
      ],
      "text/plain": [
       "                                         house_rules  host_since  \\\n",
       "0                       No smoking allowed! No pets.  2009-05-12   \n",
       "1  We will leave the house clean and in good and ...  2010-04-17   \n",
       "2  Please be respectful to the neighbors and keep...  2010-04-22   \n",
       "3  Smoking is allowed on the balcony only.  Pleas...  2010-05-15   \n",
       "4              Please respect that this is our home.  2010-05-18   \n",
       "\n",
       "                                    host_location host_response_time  \\\n",
       "0  Copenhagen, Capital Region of Denmark, Denmark                NaN   \n",
       "1  Copenhagen, Capital Region of Denmark, Denmark                NaN   \n",
       "2  Copenhagen, Capital Region of Denmark, Denmark     within an hour   \n",
       "3  Copenhagen, Capital Region of Denmark, Denmark       within a day   \n",
       "4  Copenhagen, Capital Region of Denmark, Denmark                NaN   \n",
       "\n",
       "  host_neighbourhood  host_listings_count  host_total_listings_count  \\\n",
       "0           Nørrebro                  1.0                        1.0   \n",
       "1           Indre By                  1.0                        1.0   \n",
       "2           Indre By                  4.0                        4.0   \n",
       "3          Vesterbro                  1.0                        1.0   \n",
       "4           Østerbro                  1.0                        1.0   \n",
       "\n",
       "                                  host_verifications host_has_profile_pic  \\\n",
       "0                      ['email', 'phone', 'reviews']                    t   \n",
       "1  ['email', 'phone', 'reviews', 'jumio', 'offlin...                    t   \n",
       "2  ['email', 'phone', 'facebook', 'reviews', 'jum...                    t   \n",
       "3                      ['email', 'phone', 'reviews']                    t   \n",
       "4  ['email', 'phone', 'facebook', 'reviews', 'jum...                    t   \n",
       "\n",
       "  host_identity_verified  ... security_deposit cleaning_fee  guests_included  \\\n",
       "0                      f  ...            $0.00       $33.00                1   \n",
       "1                      f  ...        $5,000.00    $1,100.00                3   \n",
       "2                      t  ...        $3,727.00      $522.00                1   \n",
       "3                      f  ...              NaN      $300.00                1   \n",
       "4                      t  ...              NaN       $75.00                1   \n",
       "\n",
       "   extra_people minimum_nights maximum_nights instant_bookable  \\\n",
       "0        $67.00              2             15                f   \n",
       "1       $350.00              3             30                f   \n",
       "2         $0.00              3             31                f   \n",
       "3         $0.00              7             14                f   \n",
       "4         $0.00              7             31                t   \n",
       "\n",
       "           cancellation_policy  require_guest_profile_picture  \\\n",
       "0                     moderate                              f   \n",
       "1                     moderate                              f   \n",
       "2                     moderate                              f   \n",
       "3  strict_14_with_grace_period                              f   \n",
       "4                     moderate                              f   \n",
       "\n",
       "   require_guest_phone_verification  \n",
       "0                                 f  \n",
       "1                                 f  \n",
       "2                                 f  \n",
       "3                                 f  \n",
       "4                                 f  \n",
       "\n",
       "[5 rows x 35 columns]"
      ]
     },
     "execution_count": 6,
     "metadata": {},
     "output_type": "execute_result"
    }
   ],
   "source": [
    "raw_df.head()"
   ]
  },
  {
   "cell_type": "code",
   "execution_count": 7,
   "metadata": {},
   "outputs": [],
   "source": [
    "mapping = {\n",
    "    \"house_rules\": \"string\",\n",
    "    \"host_since\": \"string\",\n",
    "    \"host_location\": \"string\",\n",
    "    \"host_response_time\": \"category\",\n",
    "    \"host_acceptance_rate\": \"string\",\n",
    "    \"host_neighbourhood\": \"category\",\n",
    "    \"host_listings_count\": \"Int64\",\n",
    "    \"host_total_listings_count\": \"Int64\",\n",
    "    \"host_has_profile_pic\": \"string\",\n",
    "    \"host_identity_verified\": \"string\",\n",
    "    \"neighbourhood\": \"category\",\n",
    "    \"zipcode\": \"string\",\n",
    "    \"latitude\": \"float64\",\n",
    "    \"longitude\": \"float64\",\n",
    "    \"property_type\": \"category\",\n",
    "    \"accommodates\": \"Int8\",\n",
    "    \"bathrooms\": \"float32\",\n",
    "    \"bedrooms\": \"Int8\",\n",
    "    \"beds\": \"Int8\",\n",
    "    \"bed_type\": \"category\",\n",
    "    \"amenities\": \"string\",\n",
    "    \"square_feet\": \"Int64\",\n",
    "    \"price\": \"string\",    \n",
    "    \"security_deposit\": \"string\",\n",
    "    \"cleaning_fee\": \"string\",\n",
    "    \"guests_included\": \"Int8\",\n",
    "    \"extra_people\": \"string\",\n",
    "    \"minimum_nights\": \"Int64\",\n",
    "    \"maximum_nights\": \"Int64\",\n",
    "    \"instant_bookable\": \"string\",\n",
    "    \"cancellation_policy\": \"category\",\n",
    "    \"require_guest_profile_picture\": \"string\",\n",
    "    \"require_guest_phone_verification\": \"string\"\n",
    "}"
   ]
  },
  {
   "cell_type": "code",
   "execution_count": 8,
   "metadata": {},
   "outputs": [],
   "source": [
    "raw_df = pd.read_csv(\"../data/raw/listings_2020_05_30.csv\", usecols=mapping.keys(), dtype=mapping)"
   ]
  },
  {
   "cell_type": "code",
   "execution_count": 9,
   "metadata": {},
   "outputs": [],
   "source": [
    "processed_df = raw_df.copy()"
   ]
  },
  {
   "cell_type": "code",
   "execution_count": 10,
   "metadata": {},
   "outputs": [
    {
     "data": {
      "text/html": [
       "<div>\n",
       "<style scoped>\n",
       "    .dataframe tbody tr th:only-of-type {\n",
       "        vertical-align: middle;\n",
       "    }\n",
       "\n",
       "    .dataframe tbody tr th {\n",
       "        vertical-align: top;\n",
       "    }\n",
       "\n",
       "    .dataframe thead th {\n",
       "        text-align: right;\n",
       "    }\n",
       "</style>\n",
       "<table border=\"1\" class=\"dataframe\">\n",
       "  <thead>\n",
       "    <tr style=\"text-align: right;\">\n",
       "      <th></th>\n",
       "      <th>accommodates</th>\n",
       "      <th>bathrooms</th>\n",
       "      <th>bedrooms</th>\n",
       "      <th>beds</th>\n",
       "      <th>bed_type</th>\n",
       "      <th>amenities</th>\n",
       "      <th>square_feet</th>\n",
       "      <th>price</th>\n",
       "      <th>security_deposit</th>\n",
       "      <th>cleaning_fee</th>\n",
       "      <th>guests_included</th>\n",
       "      <th>extra_people</th>\n",
       "      <th>minimum_nights</th>\n",
       "      <th>maximum_nights</th>\n",
       "      <th>instant_bookable</th>\n",
       "      <th>cancellation_policy</th>\n",
       "      <th>require_guest_profile_picture</th>\n",
       "      <th>require_guest_phone_verification</th>\n",
       "    </tr>\n",
       "  </thead>\n",
       "  <tbody>\n",
       "    <tr>\n",
       "      <th>0</th>\n",
       "      <td>2</td>\n",
       "      <td>1.0</td>\n",
       "      <td>1</td>\n",
       "      <td>1</td>\n",
       "      <td>Real Bed</td>\n",
       "      <td>{TV,\"Cable TV\",Wifi,Kitchen,\"Paid parking off ...</td>\n",
       "      <td>97</td>\n",
       "      <td>$368.00</td>\n",
       "      <td>$0.00</td>\n",
       "      <td>$33.00</td>\n",
       "      <td>1</td>\n",
       "      <td>$67.00</td>\n",
       "      <td>2</td>\n",
       "      <td>15</td>\n",
       "      <td>f</td>\n",
       "      <td>moderate</td>\n",
       "      <td>f</td>\n",
       "      <td>f</td>\n",
       "    </tr>\n",
       "    <tr>\n",
       "      <th>1</th>\n",
       "      <td>6</td>\n",
       "      <td>1.5</td>\n",
       "      <td>4</td>\n",
       "      <td>4</td>\n",
       "      <td>Real Bed</td>\n",
       "      <td>{TV,Wifi,Kitchen,\"Indoor fireplace\",Heating,\"F...</td>\n",
       "      <td>&lt;NA&gt;</td>\n",
       "      <td>$2,398.00</td>\n",
       "      <td>$5,000.00</td>\n",
       "      <td>$1,100.00</td>\n",
       "      <td>3</td>\n",
       "      <td>$350.00</td>\n",
       "      <td>3</td>\n",
       "      <td>30</td>\n",
       "      <td>f</td>\n",
       "      <td>moderate</td>\n",
       "      <td>f</td>\n",
       "      <td>f</td>\n",
       "    </tr>\n",
       "    <tr>\n",
       "      <th>2</th>\n",
       "      <td>12</td>\n",
       "      <td>2.5</td>\n",
       "      <td>6</td>\n",
       "      <td>7</td>\n",
       "      <td>Real Bed</td>\n",
       "      <td>{TV,Internet,Wifi,Kitchen,\"Buzzer/wireless int...</td>\n",
       "      <td>&lt;NA&gt;</td>\n",
       "      <td>$3,095.00</td>\n",
       "      <td>$3,727.00</td>\n",
       "      <td>$522.00</td>\n",
       "      <td>1</td>\n",
       "      <td>$0.00</td>\n",
       "      <td>3</td>\n",
       "      <td>31</td>\n",
       "      <td>f</td>\n",
       "      <td>moderate</td>\n",
       "      <td>f</td>\n",
       "      <td>f</td>\n",
       "    </tr>\n",
       "    <tr>\n",
       "      <th>3</th>\n",
       "      <td>2</td>\n",
       "      <td>1.0</td>\n",
       "      <td>1</td>\n",
       "      <td>1</td>\n",
       "      <td>Real Bed</td>\n",
       "      <td>{Wifi,Kitchen,\"Paid parking off premises\",Heat...</td>\n",
       "      <td>&lt;NA&gt;</td>\n",
       "      <td>$797.00</td>\n",
       "      <td>&lt;NA&gt;</td>\n",
       "      <td>$300.00</td>\n",
       "      <td>1</td>\n",
       "      <td>$0.00</td>\n",
       "      <td>7</td>\n",
       "      <td>14</td>\n",
       "      <td>f</td>\n",
       "      <td>strict_14_with_grace_period</td>\n",
       "      <td>f</td>\n",
       "      <td>f</td>\n",
       "    </tr>\n",
       "    <tr>\n",
       "      <th>4</th>\n",
       "      <td>4</td>\n",
       "      <td>1.0</td>\n",
       "      <td>3</td>\n",
       "      <td>3</td>\n",
       "      <td>Real Bed</td>\n",
       "      <td>{TV,Internet,Wifi,Kitchen,\"Buzzer/wireless int...</td>\n",
       "      <td>&lt;NA&gt;</td>\n",
       "      <td>$855.00</td>\n",
       "      <td>&lt;NA&gt;</td>\n",
       "      <td>$75.00</td>\n",
       "      <td>1</td>\n",
       "      <td>$0.00</td>\n",
       "      <td>7</td>\n",
       "      <td>31</td>\n",
       "      <td>t</td>\n",
       "      <td>moderate</td>\n",
       "      <td>f</td>\n",
       "      <td>f</td>\n",
       "    </tr>\n",
       "  </tbody>\n",
       "</table>\n",
       "</div>"
      ],
      "text/plain": [
       "   accommodates  bathrooms  bedrooms  beds  bed_type  \\\n",
       "0             2        1.0         1     1  Real Bed   \n",
       "1             6        1.5         4     4  Real Bed   \n",
       "2            12        2.5         6     7  Real Bed   \n",
       "3             2        1.0         1     1  Real Bed   \n",
       "4             4        1.0         3     3  Real Bed   \n",
       "\n",
       "                                           amenities  square_feet      price  \\\n",
       "0  {TV,\"Cable TV\",Wifi,Kitchen,\"Paid parking off ...           97    $368.00   \n",
       "1  {TV,Wifi,Kitchen,\"Indoor fireplace\",Heating,\"F...         <NA>  $2,398.00   \n",
       "2  {TV,Internet,Wifi,Kitchen,\"Buzzer/wireless int...         <NA>  $3,095.00   \n",
       "3  {Wifi,Kitchen,\"Paid parking off premises\",Heat...         <NA>    $797.00   \n",
       "4  {TV,Internet,Wifi,Kitchen,\"Buzzer/wireless int...         <NA>    $855.00   \n",
       "\n",
       "  security_deposit cleaning_fee  guests_included extra_people  minimum_nights  \\\n",
       "0            $0.00       $33.00                1       $67.00               2   \n",
       "1        $5,000.00    $1,100.00                3      $350.00               3   \n",
       "2        $3,727.00      $522.00                1        $0.00               3   \n",
       "3             <NA>      $300.00                1        $0.00               7   \n",
       "4             <NA>       $75.00                1        $0.00               7   \n",
       "\n",
       "   maximum_nights instant_bookable          cancellation_policy  \\\n",
       "0              15                f                     moderate   \n",
       "1              30                f                     moderate   \n",
       "2              31                f                     moderate   \n",
       "3              14                f  strict_14_with_grace_period   \n",
       "4              31                t                     moderate   \n",
       "\n",
       "  require_guest_profile_picture require_guest_phone_verification  \n",
       "0                             f                                f  \n",
       "1                             f                                f  \n",
       "2                             f                                f  \n",
       "3                             f                                f  \n",
       "4                             f                                f  "
      ]
     },
     "execution_count": 10,
     "metadata": {},
     "output_type": "execute_result"
    }
   ],
   "source": [
    "raw_df.head().iloc[:, 15:]"
   ]
  },
  {
   "cell_type": "markdown",
   "metadata": {},
   "source": [
    "# Preprocessing columns\n",
    "\n",
    "Now the data is loaded optimally, we can start looking at necessary data cleanup. At this stage, we are not doing feature engineering, merely fixing flaws and converting to final form of data types."
   ]
  },
  {
   "cell_type": "code",
   "execution_count": 11,
   "metadata": {},
   "outputs": [],
   "source": [
    "def convert_price(series):\n",
    "    return pd.to_numeric(series.str.replace(\"$\", \"\").str.replace(\",\", \"\"), errors=\"coerce\").astype(\"float64\")\n",
    "\n",
    "def convert_percent(series):\n",
    "    return pd.to_numeric(series.str.replace(\"%\", \"\"), errors=\"coerce\").astype(\"Int8\")\n",
    "\n",
    "def convert_bool(series):\n",
    "    return series.map({\"t\": True, \"f\": False}).astype(\"bool\")"
   ]
  },
  {
   "cell_type": "markdown",
   "metadata": {},
   "source": [
    "## host_acceptance_rate\n",
    "We need to remove the `%` sign from each column and convert to an integer"
   ]
  },
  {
   "cell_type": "code",
   "execution_count": 12,
   "metadata": {},
   "outputs": [],
   "source": [
    "processed_df[\"host_acceptance_rate\"] = convert_percent(processed_df[\"host_acceptance_rate\"])"
   ]
  },
  {
   "cell_type": "markdown",
   "metadata": {},
   "source": [
    "# host_has_profile_pic\n",
    "\n",
    "We need to convert `f` to False and `t` to True"
   ]
  },
  {
   "cell_type": "code",
   "execution_count": 13,
   "metadata": {},
   "outputs": [],
   "source": [
    "processed_df[\"host_has_profile_pic\"] = convert_bool(processed_df.host_has_profile_pic)"
   ]
  },
  {
   "cell_type": "markdown",
   "metadata": {},
   "source": [
    "# host_identity_verified\n",
    "\n",
    "We need to convert `f` to False and `t` to True"
   ]
  },
  {
   "cell_type": "code",
   "execution_count": 14,
   "metadata": {},
   "outputs": [],
   "source": [
    "processed_df[\"host_identity_verified\"] = convert_bool(processed_df[\"host_identity_verified\"])"
   ]
  },
  {
   "cell_type": "markdown",
   "metadata": {},
   "source": [
    "## price\n",
    "\n",
    "Remove the `,` and `$` sign and convert to correct dtype"
   ]
  },
  {
   "cell_type": "code",
   "execution_count": 15,
   "metadata": {},
   "outputs": [],
   "source": [
    "processed_df[\"price\"] = convert_price(processed_df[\"price\"])"
   ]
  },
  {
   "cell_type": "markdown",
   "metadata": {},
   "source": [
    "## security_deposit\n",
    "\n",
    "Remove the `,` and `$` sign and convert to correct dtype"
   ]
  },
  {
   "cell_type": "code",
   "execution_count": 16,
   "metadata": {},
   "outputs": [],
   "source": [
    "processed_df[\"security_deposit\"] = convert_price(processed_df[\"security_deposit\"])"
   ]
  },
  {
   "cell_type": "markdown",
   "metadata": {},
   "source": [
    "## cleaning_fee\n",
    "\n",
    "Remove the `,` and `$` sign and convert to correct dtype"
   ]
  },
  {
   "cell_type": "code",
   "execution_count": 17,
   "metadata": {},
   "outputs": [],
   "source": [
    "processed_df[\"cleaning_fee\"] = convert_price(processed_df[\"cleaning_fee\"])"
   ]
  },
  {
   "cell_type": "markdown",
   "metadata": {},
   "source": [
    "## extra_people\n",
    "Remove the `,` and `$` sign and convert to correct dtype"
   ]
  },
  {
   "cell_type": "code",
   "execution_count": 18,
   "metadata": {},
   "outputs": [],
   "source": [
    "processed_df[\"extra_people\"] = convert_price(processed_df[\"extra_people\"])"
   ]
  },
  {
   "cell_type": "markdown",
   "metadata": {},
   "source": [
    "## instant_bookable"
   ]
  },
  {
   "cell_type": "code",
   "execution_count": 19,
   "metadata": {},
   "outputs": [],
   "source": [
    "processed_df[\"instant_bookable\"] = convert_bool(processed_df[\"instant_bookable\"])"
   ]
  },
  {
   "cell_type": "markdown",
   "metadata": {},
   "source": [
    "## require_guest_profile_picture"
   ]
  },
  {
   "cell_type": "code",
   "execution_count": 20,
   "metadata": {},
   "outputs": [],
   "source": [
    "processed_df[\"require_guest_profile_picture\"] = convert_bool(processed_df[\"require_guest_profile_picture\"])"
   ]
  },
  {
   "cell_type": "markdown",
   "metadata": {},
   "source": [
    "## require_guest_phone_verification\n"
   ]
  },
  {
   "cell_type": "code",
   "execution_count": 21,
   "metadata": {},
   "outputs": [],
   "source": [
    "processed_df[\"require_guest_phone_verification\"] = convert_bool(processed_df[\"require_guest_phone_verification\"])"
   ]
  },
  {
   "cell_type": "markdown",
   "metadata": {},
   "source": [
    "# Extracting Features\n",
    "\n",
    "Now that the main dataset is ready, it's time to extract the necessary features from the data"
   ]
  },
  {
   "cell_type": "markdown",
   "metadata": {},
   "source": [
    "## Amenities\n",
    "\n",
    "We need to extract all possible categories and create a column for each, which we can then one-hot encode.\n",
    "So first, we must extract all possible categories"
   ]
  },
  {
   "cell_type": "code",
   "execution_count": 22,
   "metadata": {},
   "outputs": [],
   "source": [
    "def one_hot_encode_amenities(df: pd.DataFrame):\n",
    "    return (\n",
    "        df.amenities\n",
    "            .str.slice(start=1, stop=-1)  # Remove the \"{}\" at the front and back\n",
    "            .str.replace('\"', '')  # Remove quoting of multi-word amenities\n",
    "            .str.split(\",\")\n",
    "            .apply(lambda x: pd.Series(index=set(x), data=1))  # For each row, make a Series of\n",
    "            # 1s. `apply` will concatenate\n",
    "            # the result\n",
    "            .fillna(0)\n",
    "            .astype(\"bool\")\n",
    "            .rename(columns=lambda x: \"_\".join(x.split(\" \")).lower())  # Rename all columns to\n",
    "        # lowercase snake_case\n",
    "    )"
   ]
  },
  {
   "cell_type": "code",
   "execution_count": 23,
   "metadata": {},
   "outputs": [],
   "source": [
    "def convert_amenities(df: pd.DataFrame):\n",
    "    one_hot_df = one_hot_encode_amenities(df)\n",
    "    return df.join(one_hot_df).drop(columns=\"amenities\")"
   ]
  },
  {
   "cell_type": "code",
   "execution_count": null,
   "metadata": {},
   "outputs": [],
   "source": [
    "processed_df = convert_amenities(processed_df)"
   ]
  },
  {
   "cell_type": "markdown",
   "metadata": {},
   "source": [
    "## House Rules\n",
    "\n",
    "A hypothesis is that more rules impact the price. We can start by counting the lenght of the description to represent having more rules"
   ]
  },
  {
   "cell_type": "code",
   "execution_count": null,
   "metadata": {},
   "outputs": [],
   "source": [
    "processed_df[\"house_rules_len\"] = processed_df.house_rules.str.len()"
   ]
  },
  {
   "cell_type": "markdown",
   "metadata": {},
   "source": [
    "## Zipcode\n",
    "\n",
    "There are some missing zipcodes - we can look them up using DAWA and the reverse geocoding API. Let's mark all zipcodes longer than 4 characters as missing as well - that way we can get it from DAWA instead of trying to manipulate the strings."
   ]
  },
  {
   "cell_type": "code",
   "execution_count": null,
   "metadata": {},
   "outputs": [],
   "source": [
    "from concurrent.futures import ThreadPoolExecutor, wait\n",
    "import requests\n",
    "from requests.sessions import Session"
   ]
  },
  {
   "cell_type": "code",
   "execution_count": null,
   "metadata": {},
   "outputs": [],
   "source": [
    "url = \"https://dawa.aws.dk/postnumre/reverse\""
   ]
  },
  {
   "cell_type": "code",
   "execution_count": 4,
   "metadata": {},
   "outputs": [],
   "source": [
    "def get_zipcode(series: dict, client: Session):\n",
    "    resp = client.get(url, params={\"x\": series[\"longitude\"], \"y\": series[\"latitude\"]})\n",
    "    if resp.status_code == 200:\n",
    "        return resp.json()[\"nr\"]\n",
    "    resp.raise_for_status()"
   ]
  },
  {
   "cell_type": "code",
   "execution_count": 7,
   "metadata": {},
   "outputs": [
    {
     "ename": "NameError",
     "evalue": "name 'processed_df' is not defined",
     "output_type": "error",
     "traceback": [
      "\u001b[0;31m---------------------------------------------------------------------------\u001b[0m",
      "\u001b[0;31mNameError\u001b[0m                                 Traceback (most recent call last)",
      "\u001b[0;32m<ipython-input-7-1c073a6dcec0>\u001b[0m in \u001b[0;36m<module>\u001b[0;34m\u001b[0m\n\u001b[0;32m----> 1\u001b[0;31m \u001b[0mlats_longs\u001b[0m \u001b[0;34m=\u001b[0m \u001b[0mprocessed_df\u001b[0m\u001b[0;34m.\u001b[0m\u001b[0mloc\u001b[0m\u001b[0;34m[\u001b[0m\u001b[0mprocessed_df\u001b[0m\u001b[0;34m.\u001b[0m\u001b[0mzipcode\u001b[0m\u001b[0;34m.\u001b[0m\u001b[0misna\u001b[0m\u001b[0;34m(\u001b[0m\u001b[0;34m)\u001b[0m\u001b[0;34m,\u001b[0m \u001b[0;34m[\u001b[0m\u001b[0;34m\"latitude\"\u001b[0m\u001b[0;34m,\u001b[0m \u001b[0;34m\"longitude\"\u001b[0m\u001b[0;34m]\u001b[0m\u001b[0;34m]\u001b[0m\u001b[0;34m.\u001b[0m\u001b[0mto_dict\u001b[0m\u001b[0;34m(\u001b[0m\u001b[0morient\u001b[0m\u001b[0;34m=\u001b[0m\u001b[0;34m\"records\"\u001b[0m\u001b[0;34m)\u001b[0m\u001b[0;34m\u001b[0m\u001b[0;34m\u001b[0m\u001b[0m\n\u001b[0m",
      "\u001b[0;31mNameError\u001b[0m: name 'processed_df' is not defined"
     ]
    }
   ],
   "source": [
    "lats_longs = processed_df.loc[processed_df.zipcode.isna(), [\"latitude\", \"longitude\"]].to_dict(orient=\"records\")"
   ]
  },
  {
   "cell_type": "code",
   "execution_count": 6,
   "metadata": {},
   "outputs": [
    {
     "ename": "NameError",
     "evalue": "name 'lats_longs' is not defined",
     "output_type": "error",
     "traceback": [
      "\u001b[0;31m---------------------------------------------------------------------------\u001b[0m",
      "\u001b[0;31mNameError\u001b[0m                                 Traceback (most recent call last)",
      "\u001b[0;32m<ipython-input-6-b7aec084cf68>\u001b[0m in \u001b[0;36m<module>\u001b[0;34m\u001b[0m\n\u001b[1;32m      1\u001b[0m \u001b[0msession\u001b[0m \u001b[0;34m=\u001b[0m \u001b[0mSession\u001b[0m\u001b[0;34m(\u001b[0m\u001b[0;34m)\u001b[0m\u001b[0;34m\u001b[0m\u001b[0;34m\u001b[0m\u001b[0m\n\u001b[1;32m      2\u001b[0m \u001b[0;32mwith\u001b[0m \u001b[0mThreadPoolExecutor\u001b[0m\u001b[0;34m(\u001b[0m\u001b[0mmax_workers\u001b[0m\u001b[0;34m=\u001b[0m\u001b[0;36m10\u001b[0m\u001b[0;34m)\u001b[0m \u001b[0;32mas\u001b[0m \u001b[0mexecutor\u001b[0m\u001b[0;34m:\u001b[0m\u001b[0;34m\u001b[0m\u001b[0;34m\u001b[0m\u001b[0m\n\u001b[0;32m----> 3\u001b[0;31m     \u001b[0mfutures\u001b[0m \u001b[0;34m=\u001b[0m \u001b[0mexecutor\u001b[0m\u001b[0;34m.\u001b[0m\u001b[0mmap\u001b[0m\u001b[0;34m(\u001b[0m\u001b[0mget_zipcode\u001b[0m\u001b[0;34m,\u001b[0m \u001b[0mlats_longs\u001b[0m\u001b[0;34m,\u001b[0m \u001b[0msession\u001b[0m\u001b[0;34m)\u001b[0m\u001b[0;34m\u001b[0m\u001b[0;34m\u001b[0m\u001b[0m\n\u001b[0m\u001b[1;32m      4\u001b[0m     \u001b[0mresults\u001b[0m \u001b[0;34m=\u001b[0m \u001b[0;34m[\u001b[0m\u001b[0mfuture\u001b[0m\u001b[0;34m.\u001b[0m\u001b[0mresult\u001b[0m\u001b[0;34m(\u001b[0m\u001b[0;34m)\u001b[0m \u001b[0;32mfor\u001b[0m \u001b[0mfuture\u001b[0m \u001b[0;32min\u001b[0m \u001b[0mfutures\u001b[0m\u001b[0;34m]\u001b[0m\u001b[0;34m\u001b[0m\u001b[0;34m\u001b[0m\u001b[0m\n",
      "\u001b[0;31mNameError\u001b[0m: name 'lats_longs' is not defined"
     ]
    }
   ],
   "source": [
    "session = Session()\n",
    "with ThreadPoolExecutor(max_workers=10) as executor:\n",
    "    futures = executor.map(get_zipcode, lats_longs, session)\n",
    "    results = [future.result() for future in futures]"
   ]
  }
 ],
 "metadata": {
  "kernelspec": {
   "display_name": "Python 3",
   "language": "python",
   "name": "python3"
  },
  "language_info": {
   "codemirror_mode": {
    "name": "ipython",
    "version": 3
   },
   "file_extension": ".py",
   "mimetype": "text/x-python",
   "name": "python",
   "nbconvert_exporter": "python",
   "pygments_lexer": "ipython3",
   "version": "3.8.3"
  }
 },
 "nbformat": 4,
 "nbformat_minor": 4
}
